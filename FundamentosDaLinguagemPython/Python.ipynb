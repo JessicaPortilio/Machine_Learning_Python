{
  "nbformat": 4,
  "nbformat_minor": 0,
  "metadata": {
    "colab": {
      "name": "Python.ipynb",
      "provenance": []
    },
    "kernelspec": {
      "name": "python3",
      "display_name": "Python 3"
    },
    "language_info": {
      "name": "python"
    }
  },
  "cells": [
    {
      "cell_type": "markdown",
      "source": [
        "# **Linguagem Python**\n",
        "---\n",
        "*   Lançado por Guido Van Rossum em 1991.\n",
        "*   Uma das linguagens mais utilizadas no mundo.\n",
        "*   Linguagem simples e prática.\n",
        "*   Fonte livre e aberta.\n",
        "*   Grande comunidade colaborativa.\n",
        "*   O Python é suportado pelo Windowns, Linux, Macintosh, Solaris...\n",
        "*   Alto nível para várias aplicações: Desenvolvimento Web, Ciência de Dados, Inteligência Artificial e Computação Gráfica.\n",
        "---\n",
        "**Temos vários ambiente de desenvolvimento integrado (IDE)**\n",
        "*   PyCharm\n",
        "*   Spyder\n",
        "*   Geany\n",
        "*   PyDev\n",
        "*   Pyzo\n",
        "*   Komodo Edit\n",
        "*   Atom ide\n",
        "*   Visual Studio Code\n",
        "---\n",
        "**Ambiente de desenvolvimento interativo baseado na Web**\n",
        "*   Jupyter Notebook\n",
        "*   Jupyter Lab\n",
        "    - Arquivos no desktop;\n",
        "    - Dependente da capacidade de processamento do computador.\n",
        "    - Necessita instalação.\n",
        "*   Google Colaboratory (Google Colab)\n",
        "    - Executa código dos servidores em nuvem do Google.\n",
        "    - Não necessita de instalação.\n",
        "    - Aproveitamento da potência de hardware do Google(GPUs e TPUs), independentemente da potência da sua máquina.\n",
        "      - CPU (Unidade de Processamento Central): Processador computacional de propósito geral.\n",
        "      - GPU (Unidade de Processamento Gráfico): Acelera a renderização gráfica.\n",
        "      - TPU (Unidade de Processamento Tensorial): Acelera tarefas de aprendizagem profunda.\n",
        "---\n",
        "**Anaconda(Python)**\n",
        "*   Plataforma de distribuição para ciência de dados com Python.\n",
        "*   Simplifica o gerenciamento e implantação de pacotes.\n",
        "*   Pacotes esse como:\n",
        "    - Jupyter, Scipy, Spyder, NumPy, Dask, Bokeh, Scikit Learn, TensorFlow, Numba, Panel, Pandas, Pytorch, Conda, Matplotlib, HoloViews\n",
        "---\n",
        "*   Numpy (Computação matemática com Python)\n",
        "*   Pandas (Manipulação e análise de dados. Trabalha em conjunto com o Numpy.\n",
        "*   Scikit Learn (Aprendizado de máquina (Machine Learning) em Python.\n",
        "*   Statsmodels (Modelagem e testes Estatísticos.\n",
        "**Bibliotecas gráficas**\n",
        "*   matplotlib (Criação de gráficos e visualizações de dados em geral.\n",
        "*   seaborn (Visualização de dados baseado no Matplotlib. Fornece interface de alto nível para desenhar gráficos estatpisticos atraentes e informativos.)\n",
        "*   plotly (Criação de gráficos e visualização de dados de forma interativa, com interface de alto nível)\n",
        "**Temos mais bibliotecas**\n",
        "*   Scipy é uma biblioteca baseado em Python, de código aberto, para matemática, ciências e engenharia.\n",
        "*   TensorFlow (Biblioteca de código aberto. Desenvolvido pela Google Brain Team para aprendizado de máquina e pesquisa de redes neurais profundas.\n",
        "*   Keras (Biblioteca de rede neural de código aberto. Roda em cima de TensorFlow. Permite experimentação rápida com redes neurais profundas e possui facilidade de uso.)\n",
        "---\n",
        "\n",
        "\n",
        "\n",
        "\n",
        "\n",
        "\n",
        "\n",
        "\n",
        "\n",
        "\n",
        "\n",
        "\n",
        "\n",
        "\n",
        "\n",
        "\n",
        "\n",
        "\n",
        "\n",
        "\n"
      ],
      "metadata": {
        "id": "M4XpeIHJMvde"
      }
    },
    {
      "cell_type": "markdown",
      "source": [
        "# **Introdução**"
      ],
      "metadata": {
        "id": "w8LmJHsyYjrT"
      }
    },
    {
      "cell_type": "markdown",
      "source": [
        "Vamos apreender um pouco dos comandos básicos de Python para aplicar em redes neurais."
      ],
      "metadata": {
        "id": "eWk2DolHZ--B"
      }
    },
    {
      "cell_type": "code",
      "source": [
        "print('Olá Mundo!')"
      ],
      "metadata": {
        "colab": {
          "base_uri": "https://localhost:8080/"
        },
        "id": "dJ0ZtXSjYm-i",
        "outputId": "f213a5d9-e744-4e9b-f4ea-415f7aed28fb"
      },
      "execution_count": 1,
      "outputs": [
        {
          "output_type": "stream",
          "name": "stdout",
          "text": [
            "Olá Mundo!\n"
          ]
        }
      ]
    },
    {
      "cell_type": "code",
      "source": [
        "mensagem = 'Olá Mundo'"
      ],
      "metadata": {
        "id": "5MwsEZ3kaLM3"
      },
      "execution_count": 2,
      "outputs": []
    },
    {
      "cell_type": "code",
      "source": [
        "print(mensagem)"
      ],
      "metadata": {
        "colab": {
          "base_uri": "https://localhost:8080/"
        },
        "id": "xjSIXTeJaPnv",
        "outputId": "6189e0b8-c14f-464a-8a7a-8e417babb3f7"
      },
      "execution_count": 3,
      "outputs": [
        {
          "output_type": "stream",
          "name": "stdout",
          "text": [
            "Olá Mundo\n"
          ]
        }
      ]
    },
    {
      "cell_type": "code",
      "source": [
        "mensagem"
      ],
      "metadata": {
        "colab": {
          "base_uri": "https://localhost:8080/",
          "height": 35
        },
        "id": "FoSRpJMsaRnP",
        "outputId": "08f1d95a-0588-49cf-fb37-f2bd8e2af329"
      },
      "execution_count": 4,
      "outputs": [
        {
          "output_type": "execute_result",
          "data": {
            "text/plain": [
              "'Olá Mundo'"
            ],
            "application/vnd.google.colaboratory.intrinsic+json": {
              "type": "string"
            }
          },
          "metadata": {},
          "execution_count": 4
        }
      ]
    },
    {
      "cell_type": "code",
      "source": [
        "nome = input('Qual é o seu nome? ')"
      ],
      "metadata": {
        "colab": {
          "base_uri": "https://localhost:8080/"
        },
        "id": "9ubqm0T0aToF",
        "outputId": "57605081-2fc0-4759-acfd-ad6633c1867d"
      },
      "execution_count": 6,
      "outputs": [
        {
          "name": "stdout",
          "output_type": "stream",
          "text": [
            "Qual é o seu nome? Jessica\n"
          ]
        }
      ]
    },
    {
      "cell_type": "code",
      "source": [
        "print('Meu nome é: ',nome)"
      ],
      "metadata": {
        "colab": {
          "base_uri": "https://localhost:8080/"
        },
        "id": "CP-Dx96_advh",
        "outputId": "63217994-eea5-4c5b-bd65-e5e7ce4e79d1"
      },
      "execution_count": 7,
      "outputs": [
        {
          "output_type": "stream",
          "name": "stdout",
          "text": [
            "Meu nome é:  Jessica\n"
          ]
        }
      ]
    },
    {
      "cell_type": "code",
      "source": [
        "nome = input('Qual é o seu nome? ')\n",
        "print('Meu nome é: ',nome)"
      ],
      "metadata": {
        "colab": {
          "base_uri": "https://localhost:8080/"
        },
        "id": "uwN-N5AeakOT",
        "outputId": "f3946351-9d8e-4f3e-c35c-341d322148f2"
      },
      "execution_count": 8,
      "outputs": [
        {
          "output_type": "stream",
          "name": "stdout",
          "text": [
            "Qual é o seu nome? Jessica\n",
            "Meu nome é:  Jessica\n"
          ]
        }
      ]
    },
    {
      "cell_type": "markdown",
      "source": [
        "# **operadores Matemáticos**"
      ],
      "metadata": {
        "id": "m44hE1kUY5Kf"
      }
    },
    {
      "cell_type": "code",
      "source": [
        "n1= 3"
      ],
      "metadata": {
        "id": "JfqZhdsKZZ_F"
      },
      "execution_count": 9,
      "outputs": []
    },
    {
      "cell_type": "code",
      "source": [
        "n2 = 5"
      ],
      "metadata": {
        "id": "LT8aOTFYauy6"
      },
      "execution_count": 10,
      "outputs": []
    },
    {
      "cell_type": "code",
      "source": [
        "soma = n1 + n2\n",
        "print(soma)"
      ],
      "metadata": {
        "colab": {
          "base_uri": "https://localhost:8080/"
        },
        "id": "5KkzR7IBbC2_",
        "outputId": "0c01ac2f-9922-4068-df4b-463d27617493"
      },
      "execution_count": 11,
      "outputs": [
        {
          "output_type": "stream",
          "name": "stdout",
          "text": [
            "8\n"
          ]
        }
      ]
    },
    {
      "cell_type": "code",
      "source": [
        "soma = soma + n2\n",
        "soma"
      ],
      "metadata": {
        "colab": {
          "base_uri": "https://localhost:8080/"
        },
        "id": "NhB76sZ7bJYz",
        "outputId": "dd446e49-b15e-4e54-d3b9-9a76e5e9305d"
      },
      "execution_count": 12,
      "outputs": [
        {
          "output_type": "execute_result",
          "data": {
            "text/plain": [
              "13"
            ]
          },
          "metadata": {},
          "execution_count": 12
        }
      ]
    },
    {
      "cell_type": "code",
      "source": [
        "soma += n2\n",
        "soma"
      ],
      "metadata": {
        "colab": {
          "base_uri": "https://localhost:8080/"
        },
        "id": "oMfR2pxKbN89",
        "outputId": "c1360302-bf01-4bae-b8c6-d0a58420a24d"
      },
      "execution_count": 13,
      "outputs": [
        {
          "output_type": "execute_result",
          "data": {
            "text/plain": [
              "18"
            ]
          },
          "metadata": {},
          "execution_count": 13
        }
      ]
    },
    {
      "cell_type": "code",
      "source": [
        "substracao = n1 - n2\n",
        "substracao"
      ],
      "metadata": {
        "colab": {
          "base_uri": "https://localhost:8080/"
        },
        "id": "qdyI1PXkbSS9",
        "outputId": "9b865465-6b83-4c7b-a671-0bbbfff9b683"
      },
      "execution_count": 14,
      "outputs": [
        {
          "output_type": "execute_result",
          "data": {
            "text/plain": [
              "-2"
            ]
          },
          "metadata": {},
          "execution_count": 14
        }
      ]
    },
    {
      "cell_type": "code",
      "source": [
        "multiplicacao = n1+ n2\n",
        "multiplicacao"
      ],
      "metadata": {
        "colab": {
          "base_uri": "https://localhost:8080/"
        },
        "id": "Tpwc-o8kbY7q",
        "outputId": "eb4851d5-ad54-43ee-bd73-3abac20b7829"
      },
      "execution_count": 16,
      "outputs": [
        {
          "output_type": "execute_result",
          "data": {
            "text/plain": [
              "8"
            ]
          },
          "metadata": {},
          "execution_count": 16
        }
      ]
    },
    {
      "cell_type": "code",
      "source": [
        "potenciacao = n1**n2\n",
        "potenciacao"
      ],
      "metadata": {
        "colab": {
          "base_uri": "https://localhost:8080/"
        },
        "id": "lFqiA6uybfM9",
        "outputId": "f1e4f049-a8e1-49ea-ef9a-6570e33e8d66"
      },
      "execution_count": 19,
      "outputs": [
        {
          "output_type": "execute_result",
          "data": {
            "text/plain": [
              "243"
            ]
          },
          "metadata": {},
          "execution_count": 19
        }
      ]
    },
    {
      "cell_type": "code",
      "source": [
        "# usando função para fazer a potenciação\n",
        "potenciacao2 = pow(n1,n2)\n",
        "potenciacao2"
      ],
      "metadata": {
        "colab": {
          "base_uri": "https://localhost:8080/"
        },
        "id": "d5e7_QHkbnsB",
        "outputId": "f67eb870-f76c-4ae4-f698-ce97c293d5f4"
      },
      "execution_count": 20,
      "outputs": [
        {
          "output_type": "execute_result",
          "data": {
            "text/plain": [
              "243"
            ]
          },
          "metadata": {},
          "execution_count": 20
        }
      ]
    },
    {
      "cell_type": "code",
      "source": [
        "divisao = n2/n1\n",
        "divisao"
      ],
      "metadata": {
        "colab": {
          "base_uri": "https://localhost:8080/"
        },
        "id": "S-9kG-a9bvqU",
        "outputId": "0d0e0116-05d7-4fbf-a779-29e9045da54f"
      },
      "execution_count": 21,
      "outputs": [
        {
          "output_type": "execute_result",
          "data": {
            "text/plain": [
              "1.6666666666666667"
            ]
          },
          "metadata": {},
          "execution_count": 21
        }
      ]
    },
    {
      "cell_type": "code",
      "source": [
        "# aqui se pega o resultado inteiro da divisão\n",
        "div = n2 // n1\n",
        "div"
      ],
      "metadata": {
        "colab": {
          "base_uri": "https://localhost:8080/"
        },
        "id": "NsyWpfOkb8yq",
        "outputId": "325c45da-2d83-4bff-cd8d-474a58e344bf"
      },
      "execution_count": 23,
      "outputs": [
        {
          "output_type": "execute_result",
          "data": {
            "text/plain": [
              "1"
            ]
          },
          "metadata": {},
          "execution_count": 23
        }
      ]
    },
    {
      "cell_type": "code",
      "source": [
        "resto = n2%n1\n",
        "resto"
      ],
      "metadata": {
        "colab": {
          "base_uri": "https://localhost:8080/"
        },
        "id": "E8r_qnLxb0la",
        "outputId": "50bb9cc7-4b32-4be1-ac96-a3b612ddb31c"
      },
      "execution_count": 22,
      "outputs": [
        {
          "output_type": "execute_result",
          "data": {
            "text/plain": [
              "2"
            ]
          },
          "metadata": {},
          "execution_count": 22
        }
      ]
    },
    {
      "cell_type": "markdown",
      "source": [
        "# **Importações de bibliotecas, pacotes e módulos**"
      ],
      "metadata": {
        "id": "RIOngOd0Y8P-"
      }
    },
    {
      "cell_type": "code",
      "source": [
        "# biblioteca matemática\n",
        "import math"
      ],
      "metadata": {
        "id": "2EhhQ8z2Zadk"
      },
      "execution_count": 25,
      "outputs": []
    },
    {
      "cell_type": "code",
      "source": [
        "n = 38"
      ],
      "metadata": {
        "id": "SKRg3GlrctYA"
      },
      "execution_count": 34,
      "outputs": []
    },
    {
      "cell_type": "code",
      "source": [
        "raiz = math.sqrt(n)\n",
        "print('A raiz de {} é igual a {:.2f}'.format(n, raiz))"
      ],
      "metadata": {
        "colab": {
          "base_uri": "https://localhost:8080/"
        },
        "id": "LUnM_xgjc3m-",
        "outputId": "4fd98156-6fb7-4020-cd0d-2dac39e4c0e8"
      },
      "execution_count": 35,
      "outputs": [
        {
          "output_type": "stream",
          "name": "stdout",
          "text": [
            "A raiz de 38 é igual a 6.16\n"
          ]
        }
      ]
    },
    {
      "cell_type": "code",
      "source": [
        "raiz"
      ],
      "metadata": {
        "colab": {
          "base_uri": "https://localhost:8080/"
        },
        "id": "8pdPGp0bdb5V",
        "outputId": "60469bdc-1aea-4188-99db-2f64f38940ba"
      },
      "execution_count": 37,
      "outputs": [
        {
          "output_type": "execute_result",
          "data": {
            "text/plain": [
              "6.164414002968976"
            ]
          },
          "metadata": {},
          "execution_count": 37
        }
      ]
    },
    {
      "cell_type": "code",
      "source": [
        "# sem usar a função de raiz quadrado\n",
        "raiz2 = n ** 0.5\n",
        "raiz2"
      ],
      "metadata": {
        "colab": {
          "base_uri": "https://localhost:8080/"
        },
        "id": "p4DF2KFbdRPU",
        "outputId": "31d47c31-9917-4df4-e32e-2d1693fbf5a8"
      },
      "execution_count": 38,
      "outputs": [
        {
          "output_type": "execute_result",
          "data": {
            "text/plain": [
              "6.164414002968976"
            ]
          },
          "metadata": {},
          "execution_count": 38
        }
      ]
    },
    {
      "cell_type": "code",
      "source": [
        "print('{:.2f}'.format(raiz2))"
      ],
      "metadata": {
        "colab": {
          "base_uri": "https://localhost:8080/"
        },
        "id": "C7So1Dhbdppl",
        "outputId": "2601f4f0-25ac-4a64-fd67-d20c24811a06"
      },
      "execution_count": 41,
      "outputs": [
        {
          "output_type": "stream",
          "name": "stdout",
          "text": [
            "6.16\n"
          ]
        }
      ]
    },
    {
      "cell_type": "code",
      "source": [
        "# As vezes não é legal trazer todas as funções de uma biblioteca, então melhor dizer qual você deseja trazer.\n",
        "from math import sqrt\n",
        "raiz3 = sqrt(n)\n",
        "raiz3"
      ],
      "metadata": {
        "colab": {
          "base_uri": "https://localhost:8080/"
        },
        "id": "I0El-TRKd_iR",
        "outputId": "2bbdf4b7-6e59-448c-c8fd-c71b7ee186d0"
      },
      "execution_count": 43,
      "outputs": [
        {
          "output_type": "execute_result",
          "data": {
            "text/plain": [
              "6.164414002968976"
            ]
          },
          "metadata": {},
          "execution_count": 43
        }
      ]
    },
    {
      "cell_type": "code",
      "source": [
        "from math import factorial, sqrt"
      ],
      "metadata": {
        "id": "Btrtm77XeTq8"
      },
      "execution_count": 44,
      "outputs": []
    },
    {
      "cell_type": "code",
      "source": [
        "fatorial = factorial(4) \n",
        "# fatorial: 4! = 4.3.2 = 24\n",
        "fatorial"
      ],
      "metadata": {
        "colab": {
          "base_uri": "https://localhost:8080/"
        },
        "id": "xE1p1sQ_eYAZ",
        "outputId": "7151c4eb-5936-4175-b0ee-912edcd70ac7"
      },
      "execution_count": 45,
      "outputs": [
        {
          "output_type": "execute_result",
          "data": {
            "text/plain": [
              "24"
            ]
          },
          "metadata": {},
          "execution_count": 45
        }
      ]
    },
    {
      "cell_type": "code",
      "source": [
        "fatorial_raiz = factorial(sqrt(16))\n",
        "fatorial_raiz"
      ],
      "metadata": {
        "colab": {
          "base_uri": "https://localhost:8080/"
        },
        "id": "F3cPNLCXeqI3",
        "outputId": "df27cceb-bf02-418f-e6a3-78191b75e169"
      },
      "execution_count": 47,
      "outputs": [
        {
          "output_type": "execute_result",
          "data": {
            "text/plain": [
              "24"
            ]
          },
          "metadata": {},
          "execution_count": 47
        }
      ]
    },
    {
      "cell_type": "code",
      "source": [
        "import random\n",
        "num = random.randint(1, 10)\n",
        "num"
      ],
      "metadata": {
        "colab": {
          "base_uri": "https://localhost:8080/"
        },
        "id": "9vsU1buDe_rO",
        "outputId": "f0c06f6f-9755-4245-af73-53d84fefcfbe"
      },
      "execution_count": 53,
      "outputs": [
        {
          "output_type": "execute_result",
          "data": {
            "text/plain": [
              "2"
            ]
          },
          "metadata": {},
          "execution_count": 53
        }
      ]
    },
    {
      "cell_type": "code",
      "source": [
        "from random import random, randint"
      ],
      "metadata": {
        "id": "e1QJhb5hfDfd"
      },
      "execution_count": 55,
      "outputs": []
    },
    {
      "cell_type": "code",
      "source": [
        "random?"
      ],
      "metadata": {
        "id": "kk505ZRFfJgu"
      },
      "execution_count": 56,
      "outputs": []
    },
    {
      "cell_type": "code",
      "source": [
        "randint?"
      ],
      "metadata": {
        "id": "VX65A_3qfPgV"
      },
      "execution_count": 57,
      "outputs": []
    },
    {
      "cell_type": "code",
      "source": [
        "num2 = random()\n",
        "num2"
      ],
      "metadata": {
        "colab": {
          "base_uri": "https://localhost:8080/"
        },
        "id": "q_drR6fLfOit",
        "outputId": "7dacb992-31bc-4ddc-8aa8-9b26cb1f9ec6"
      },
      "execution_count": 58,
      "outputs": [
        {
          "output_type": "execute_result",
          "data": {
            "text/plain": [
              "0.14896620154575457"
            ]
          },
          "metadata": {},
          "execution_count": 58
        }
      ]
    },
    {
      "cell_type": "code",
      "source": [
        "num2 = randint(1, 100)\n",
        "num2"
      ],
      "metadata": {
        "colab": {
          "base_uri": "https://localhost:8080/"
        },
        "id": "Rkki29F2faMw",
        "outputId": "688af971-f9c9-4100-e140-de4e98fb65fd"
      },
      "execution_count": 63,
      "outputs": [
        {
          "output_type": "execute_result",
          "data": {
            "text/plain": [
              "19"
            ]
          },
          "metadata": {},
          "execution_count": 63
        }
      ]
    },
    {
      "cell_type": "markdown",
      "source": [
        "# **Estrutura condicional**"
      ],
      "metadata": {
        "id": "BXtARXe6ZBHv"
      }
    },
    {
      "cell_type": "code",
      "source": [
        "nota = 6"
      ],
      "metadata": {
        "id": "Nk1-ee75Za25"
      },
      "execution_count": 64,
      "outputs": []
    },
    {
      "cell_type": "code",
      "source": [
        "if nota >= 7:\n",
        "  print('Aprovado!')\n",
        "else:\n",
        "  print('Reprovado!')"
      ],
      "metadata": {
        "colab": {
          "base_uri": "https://localhost:8080/"
        },
        "id": "Fj8v6YJevjoJ",
        "outputId": "319a53c9-c84f-4016-9a46-bb4edbebbe7d"
      },
      "execution_count": 65,
      "outputs": [
        {
          "output_type": "stream",
          "name": "stdout",
          "text": [
            "Reprovado!\n"
          ]
        }
      ]
    },
    {
      "cell_type": "code",
      "source": [
        "if nota >= 7:\n",
        "  print('Aprovado!')\n",
        "elif nota >= 6 and nota < 7:\n",
        "  print('Recuperação!')\n",
        "else:\n",
        "  print('Reprovado!')"
      ],
      "metadata": {
        "colab": {
          "base_uri": "https://localhost:8080/"
        },
        "id": "d9p5ffstvs4O",
        "outputId": "88d4c010-098a-4ec7-e680-4154eb66c7d5"
      },
      "execution_count": 66,
      "outputs": [
        {
          "output_type": "stream",
          "name": "stdout",
          "text": [
            "Recuperação!\n"
          ]
        }
      ]
    },
    {
      "cell_type": "markdown",
      "source": [
        "# **Estrutura de Repetição**"
      ],
      "metadata": {
        "id": "jzI7uJ3bZEvc"
      }
    },
    {
      "cell_type": "code",
      "source": [
        "for valor in range(0,4):\n",
        "  print(valor)"
      ],
      "metadata": {
        "colab": {
          "base_uri": "https://localhost:8080/"
        },
        "id": "wM3eb4KcZbgg",
        "outputId": "c49c75b2-72a0-4146-e630-28f0bebe209b"
      },
      "execution_count": 67,
      "outputs": [
        {
          "output_type": "stream",
          "name": "stdout",
          "text": [
            "0\n",
            "1\n",
            "2\n",
            "3\n"
          ]
        }
      ]
    },
    {
      "cell_type": "code",
      "source": [
        "lista = [1,2,3,4,5,10]\n",
        "for numero in lista:\n",
        "  print(numero)"
      ],
      "metadata": {
        "colab": {
          "base_uri": "https://localhost:8080/"
        },
        "id": "H92lUPW8wsI5",
        "outputId": "a0cb18eb-3d14-4c06-fb89-f250901c4dfa"
      },
      "execution_count": 68,
      "outputs": [
        {
          "output_type": "stream",
          "name": "stdout",
          "text": [
            "1\n",
            "2\n",
            "3\n",
            "4\n",
            "5\n",
            "10\n"
          ]
        }
      ]
    },
    {
      "cell_type": "code",
      "source": [
        "lista = [1,2,3,4,5,10]\n",
        "for numero in lista:\n",
        "  print(numero * 2)"
      ],
      "metadata": {
        "colab": {
          "base_uri": "https://localhost:8080/"
        },
        "id": "xD9zAZQqw0H5",
        "outputId": "4039de12-2a19-4fb0-858f-29deeba2addc"
      },
      "execution_count": 69,
      "outputs": [
        {
          "output_type": "stream",
          "name": "stdout",
          "text": [
            "2\n",
            "4\n",
            "6\n",
            "8\n",
            "10\n",
            "20\n"
          ]
        }
      ]
    },
    {
      "cell_type": "code",
      "source": [
        "soma = 0\n",
        "cont = 0\n",
        "for valor in range(1,6):\n",
        "  num = int(input('Digite o {} valor: '.format(valor)))\n",
        "  if num % 2 == 0:\n",
        "    soma = soma + num\n",
        "    cont = cont + 1\n",
        "print('Você informou {} números pares e a soma deles é igual a {}'.format(cont, soma))"
      ],
      "metadata": {
        "colab": {
          "base_uri": "https://localhost:8080/"
        },
        "id": "1H5Tcokew2mX",
        "outputId": "7ebb4bda-2cdf-4977-b8b7-dca9e0e1cdf4"
      },
      "execution_count": 74,
      "outputs": [
        {
          "output_type": "stream",
          "name": "stdout",
          "text": [
            "Digite o 1 valor: 5\n",
            "Digite o 2 valor: 6\n",
            "Digite o 3 valor: 12\n",
            "Digite o 4 valor: 3\n",
            "Digite o 5 valor: 9\n",
            "Você informou 2 números pares e a soma deles é igual a 18\n"
          ]
        }
      ]
    },
    {
      "cell_type": "code",
      "source": [
        "cont = 1\n",
        "while cont < 10:\n",
        "  soma = cont + 10\n",
        "  print(soma)\n",
        "  cont+=1\n",
        "print('Terminou!')"
      ],
      "metadata": {
        "colab": {
          "base_uri": "https://localhost:8080/"
        },
        "id": "__PGtEmvyFmu",
        "outputId": "ddf6c879-799b-489c-8a69-fe44324025b8"
      },
      "execution_count": 75,
      "outputs": [
        {
          "output_type": "stream",
          "name": "stdout",
          "text": [
            "11\n",
            "12\n",
            "13\n",
            "14\n",
            "15\n",
            "16\n",
            "17\n",
            "18\n",
            "19\n",
            "Terminou!\n"
          ]
        }
      ]
    },
    {
      "cell_type": "markdown",
      "source": [
        "# **Listas, Tuplas e Dicionários**"
      ],
      "metadata": {
        "id": "fitvcs7mZKpz"
      }
    },
    {
      "cell_type": "markdown",
      "source": [
        "***Listas***"
      ],
      "metadata": {
        "id": "7OXiMzVBysTh"
      }
    },
    {
      "cell_type": "code",
      "source": [
        "num = [1,2,5,8,12]"
      ],
      "metadata": {
        "id": "IKHe3uhvZcKN"
      },
      "execution_count": 84,
      "outputs": []
    },
    {
      "cell_type": "code",
      "source": [
        "num"
      ],
      "metadata": {
        "colab": {
          "base_uri": "https://localhost:8080/"
        },
        "id": "4aMrinkZy3w1",
        "outputId": "c18624ca-9501-4a5a-a1c0-b762fe873389"
      },
      "execution_count": 85,
      "outputs": [
        {
          "output_type": "execute_result",
          "data": {
            "text/plain": [
              "[1, 2, 5, 8, 12]"
            ]
          },
          "metadata": {},
          "execution_count": 85
        }
      ]
    },
    {
      "cell_type": "code",
      "source": [
        "num[3]"
      ],
      "metadata": {
        "colab": {
          "base_uri": "https://localhost:8080/"
        },
        "id": "qjrP7oKey6U2",
        "outputId": "12d42f42-a439-4db3-ffda-b67040e20d5d"
      },
      "execution_count": 86,
      "outputs": [
        {
          "output_type": "execute_result",
          "data": {
            "text/plain": [
              "8"
            ]
          },
          "metadata": {},
          "execution_count": 86
        }
      ]
    },
    {
      "cell_type": "code",
      "source": [
        "# Podemos colocar outro valor na posição 3 no lugar do 8\n",
        "num[3] = 10\n",
        "num"
      ],
      "metadata": {
        "colab": {
          "base_uri": "https://localhost:8080/"
        },
        "id": "cD2eyX77y-mO",
        "outputId": "93193b08-4e56-4a6a-eded-666dcc5061ed"
      },
      "execution_count": 87,
      "outputs": [
        {
          "output_type": "execute_result",
          "data": {
            "text/plain": [
              "[1, 2, 5, 10, 12]"
            ]
          },
          "metadata": {},
          "execution_count": 87
        }
      ]
    },
    {
      "cell_type": "code",
      "source": [
        "# aqui você adiciona a lista um valor\n",
        "num.append(8)\n",
        "num"
      ],
      "metadata": {
        "colab": {
          "base_uri": "https://localhost:8080/"
        },
        "id": "GvFCPeSnzI1E",
        "outputId": "35d5bebe-4a5c-4ee9-b897-c6bb57ceccdb"
      },
      "execution_count": 88,
      "outputs": [
        {
          "output_type": "execute_result",
          "data": {
            "text/plain": [
              "[1, 2, 5, 10, 12, 8]"
            ]
          },
          "metadata": {},
          "execution_count": 88
        }
      ]
    },
    {
      "cell_type": "code",
      "source": [
        "# colocar em ordem crescente\n",
        "num.sort()\n",
        "num"
      ],
      "metadata": {
        "colab": {
          "base_uri": "https://localhost:8080/"
        },
        "id": "nR9j-1glzbIN",
        "outputId": "bf8ed047-442a-4dfb-b645-0fc0a85eee25"
      },
      "execution_count": 89,
      "outputs": [
        {
          "output_type": "execute_result",
          "data": {
            "text/plain": [
              "[1, 2, 5, 8, 10, 12]"
            ]
          },
          "metadata": {},
          "execution_count": 89
        }
      ]
    },
    {
      "cell_type": "code",
      "source": [
        "# podemos adicionar um valor em uma posição\n",
        "          #p,v\n",
        "num.insert(2,0) # estamos colocando o valor 0 na posiçao 2\n",
        "num"
      ],
      "metadata": {
        "colab": {
          "base_uri": "https://localhost:8080/"
        },
        "id": "GXLGRSWnzg2F",
        "outputId": "93f574a1-86c0-4a8d-8043-40f1dcff54c2"
      },
      "execution_count": 90,
      "outputs": [
        {
          "output_type": "execute_result",
          "data": {
            "text/plain": [
              "[1, 2, 0, 5, 8, 10, 12]"
            ]
          },
          "metadata": {},
          "execution_count": 90
        }
      ]
    },
    {
      "cell_type": "code",
      "source": [
        "# podemos remover\n",
        "num.remove(0)\n",
        "num"
      ],
      "metadata": {
        "colab": {
          "base_uri": "https://localhost:8080/"
        },
        "id": "zWatPjV40IWi",
        "outputId": "f85c3a36-6d48-4387-b4ec-804e202eed0a"
      },
      "execution_count": 91,
      "outputs": [
        {
          "output_type": "execute_result",
          "data": {
            "text/plain": [
              "[1, 2, 5, 8, 10, 12]"
            ]
          },
          "metadata": {},
          "execution_count": 91
        }
      ]
    },
    {
      "cell_type": "code",
      "source": [
        "# podemos remover o valor de uma posição\n",
        "num.pop(3)\n",
        "num"
      ],
      "metadata": {
        "colab": {
          "base_uri": "https://localhost:8080/"
        },
        "id": "VmclKjnv0Z9A",
        "outputId": "63127466-c9b9-4bef-a0ad-e66e82bc2421"
      },
      "execution_count": 92,
      "outputs": [
        {
          "output_type": "execute_result",
          "data": {
            "text/plain": [
              "[1, 2, 5, 10, 12]"
            ]
          },
          "metadata": {},
          "execution_count": 92
        }
      ]
    },
    {
      "cell_type": "markdown",
      "source": [
        "***Tuplas***"
      ],
      "metadata": {
        "id": "RbDkZ8UT0rKj"
      }
    },
    {
      "cell_type": "code",
      "source": [
        "num = (1,2,5,10,12)"
      ],
      "metadata": {
        "id": "PG0UJDj-0qd_"
      },
      "execution_count": 93,
      "outputs": []
    },
    {
      "cell_type": "code",
      "source": [
        "# truplas é imutável, não podemos alterar ela igual fizemos na lista\n",
        "# num[3] = 8"
      ],
      "metadata": {
        "id": "3xhOO_VN0zxr"
      },
      "execution_count": 95,
      "outputs": []
    },
    {
      "cell_type": "markdown",
      "source": [
        "***Dicionários***"
      ],
      "metadata": {
        "id": "6Nu3SM7l1Xz5"
      }
    },
    {
      "cell_type": "code",
      "source": [
        "pessoas = {'nome': 'Jessica', 'sexo': 'femenino', 'idade': 30}\n",
        "pessoas"
      ],
      "metadata": {
        "colab": {
          "base_uri": "https://localhost:8080/"
        },
        "id": "h3twSIh91aMT",
        "outputId": "87bd2bed-0e22-4111-bcd1-258574992ae9"
      },
      "execution_count": 97,
      "outputs": [
        {
          "output_type": "execute_result",
          "data": {
            "text/plain": [
              "{'nome': 'Jessica', 'sexo': 'femenino', 'idade': 30}"
            ]
          },
          "metadata": {},
          "execution_count": 97
        }
      ]
    },
    {
      "cell_type": "code",
      "source": [
        "# adicionar novo elemento em nosso dicionário\n",
        "pessoas['time'] = 'Bota Fogo'\n",
        "pessoas"
      ],
      "metadata": {
        "colab": {
          "base_uri": "https://localhost:8080/"
        },
        "id": "MGvnDxqG2BMe",
        "outputId": "90b14199-7546-4c2c-9da4-1f1455f86bb8"
      },
      "execution_count": 98,
      "outputs": [
        {
          "output_type": "execute_result",
          "data": {
            "text/plain": [
              "{'nome': 'Jessica', 'sexo': 'femenino', 'idade': 30, 'time': 'Bota Fogo'}"
            ]
          },
          "metadata": {},
          "execution_count": 98
        }
      ]
    },
    {
      "cell_type": "code",
      "source": [
        "# remover\n",
        "del pessoas['time']\n",
        "pessoas"
      ],
      "metadata": {
        "colab": {
          "base_uri": "https://localhost:8080/"
        },
        "id": "kTNSWF6o2NS4",
        "outputId": "6331c5f5-b326-43d1-fefa-f87dfa897b8c"
      },
      "execution_count": 99,
      "outputs": [
        {
          "output_type": "execute_result",
          "data": {
            "text/plain": [
              "{'nome': 'Jessica', 'sexo': 'femenino', 'idade': 30}"
            ]
          },
          "metadata": {},
          "execution_count": 99
        }
      ]
    },
    {
      "cell_type": "markdown",
      "source": [
        "# **Funções**"
      ],
      "metadata": {
        "id": "VdJhKnVw2bxk"
      }
    },
    {
      "cell_type": "code",
      "source": [
        "def pessoa(nome, idade):\n",
        "  print('Olá', nome,'!','\\n Sua idade é',idade, 'ano.s')"
      ],
      "metadata": {
        "id": "VWYbHWpI2jL-"
      },
      "execution_count": 110,
      "outputs": []
    },
    {
      "cell_type": "code",
      "source": [
        "pessoa('Jessica', 30)"
      ],
      "metadata": {
        "colab": {
          "base_uri": "https://localhost:8080/"
        },
        "id": "Lc4kmyrj2yTU",
        "outputId": "402d571e-f0da-4150-fed1-8694ae2b53ca"
      },
      "execution_count": 111,
      "outputs": [
        {
          "output_type": "stream",
          "name": "stdout",
          "text": [
            "Olá Jessica ! \n",
            " Sua idade é 30 ano.s\n"
          ]
        }
      ]
    },
    {
      "cell_type": "code",
      "source": [
        "def maior(x,y):\n",
        "  if x< y:\n",
        "    print('O maior valor é', y)\n",
        "  elif x == y:\n",
        "    print('Os valores são iguais!')\n",
        "  else:\n",
        "    print('O maior valor é', x)"
      ],
      "metadata": {
        "id": "cEFGQxQ426h3"
      },
      "execution_count": 112,
      "outputs": []
    },
    {
      "cell_type": "code",
      "source": [
        "maior(25,50)"
      ],
      "metadata": {
        "colab": {
          "base_uri": "https://localhost:8080/"
        },
        "id": "Cowm7eaI3YWq",
        "outputId": "884e3dbf-3efd-4a33-fb56-a9e661f084b3"
      },
      "execution_count": 116,
      "outputs": [
        {
          "output_type": "stream",
          "name": "stdout",
          "text": [
            "O maior valor é 50\n"
          ]
        }
      ]
    },
    {
      "cell_type": "code",
      "source": [
        "def pitagoras(cat1, cat2, hip):\n",
        "  if hip == '?':\n",
        "    hip = (cat1**2+cat2**2)**(1/2)\n",
        "    print('A hipotenusa é', hip)\n",
        "  elif cat1 == '?':\n",
        "    cat1 = (hip**2-cat2**2)**(1/2)\n",
        "    print('O cateto é:', cat1)\n",
        "  elif cat2 == '?':\n",
        "    cat2 = (hip**2-cat1**2)**(1/2)\n",
        "    print('O cateto é:', cat2)"
      ],
      "metadata": {
        "id": "NNrTOw1d3yG9"
      },
      "execution_count": 117,
      "outputs": []
    },
    {
      "cell_type": "code",
      "source": [
        "pitagoras(4, 5, '?')"
      ],
      "metadata": {
        "colab": {
          "base_uri": "https://localhost:8080/"
        },
        "id": "6p0_NqFY4gRJ",
        "outputId": "9e067e72-756c-486f-8bb3-982d90871f7e"
      },
      "execution_count": 120,
      "outputs": [
        {
          "output_type": "stream",
          "name": "stdout",
          "text": [
            "A hipotenusa é 6.4031242374328485\n"
          ]
        }
      ]
    },
    {
      "cell_type": "markdown",
      "source": [
        "# **Função Lambda e map**"
      ],
      "metadata": {
        "id": "1G59IffD40uF"
      }
    },
    {
      "cell_type": "code",
      "source": [
        "# Função Lambda é uma forma simplificada de escrever funções\n",
        "def area_quadrado(x):\n",
        "  area= x**2\n",
        "  print(area)"
      ],
      "metadata": {
        "id": "b62I_GEe436J"
      },
      "execution_count": 121,
      "outputs": []
    },
    {
      "cell_type": "code",
      "source": [
        "area_quadrado(4)"
      ],
      "metadata": {
        "colab": {
          "base_uri": "https://localhost:8080/"
        },
        "id": "ERiQoeJL7LPC",
        "outputId": "c956a36f-ebcf-4f0a-d71b-0047c064303c"
      },
      "execution_count": 122,
      "outputs": [
        {
          "output_type": "stream",
          "name": "stdout",
          "text": [
            "16\n"
          ]
        }
      ]
    },
    {
      "cell_type": "code",
      "source": [
        "area_quadrado2 = lambda x: x**2\n",
        "area_quadrado2(4)"
      ],
      "metadata": {
        "colab": {
          "base_uri": "https://localhost:8080/"
        },
        "id": "1opYzbW57N3H",
        "outputId": "835413ec-5afd-4f93-f119-fb9cbc3218f5"
      },
      "execution_count": 123,
      "outputs": [
        {
          "output_type": "execute_result",
          "data": {
            "text/plain": [
              "16"
            ]
          },
          "metadata": {},
          "execution_count": 123
        }
      ]
    },
    {
      "cell_type": "code",
      "source": [
        "area_retangulo = lambda b, h: b*h\n",
        "area_retangulo(2,4)"
      ],
      "metadata": {
        "colab": {
          "base_uri": "https://localhost:8080/"
        },
        "id": "IlxVJb057ena",
        "outputId": "534c769f-f992-4550-ff83-4ab50bfb0152"
      },
      "execution_count": 124,
      "outputs": [
        {
          "output_type": "execute_result",
          "data": {
            "text/plain": [
              "8"
            ]
          },
          "metadata": {},
          "execution_count": 124
        }
      ]
    },
    {
      "cell_type": "code",
      "source": [
        "# map junta uma função junto com o valor que vai utilizar essa função\n",
        "L = [2,4,5,7,10,6,12]\n",
        "areas = list(map(lambda x : x**2, L))\n",
        "print(areas)"
      ],
      "metadata": {
        "colab": {
          "base_uri": "https://localhost:8080/"
        },
        "id": "789Bucnr8e9Q",
        "outputId": "b6c02c23-2158-4e0f-adee-305a9c818c2b"
      },
      "execution_count": 126,
      "outputs": [
        {
          "output_type": "stream",
          "name": "stdout",
          "text": [
            "[4, 16, 25, 49, 100, 36, 144]\n"
          ]
        }
      ]
    },
    {
      "cell_type": "markdown",
      "source": [
        "# **List Comprehensions**"
      ],
      "metadata": {
        "id": "gMpfp-7s9Vvg"
      }
    },
    {
      "cell_type": "code",
      "source": [
        "# Com List Comprehensions podemos otimizar a utilização de listas e diminui linhas de códigos.\n",
        "Lista=[]\n",
        "for valor in range(5):\n",
        "  Lista.append(valor+10)\n",
        "print(Lista)"
      ],
      "metadata": {
        "colab": {
          "base_uri": "https://localhost:8080/"
        },
        "id": "HuPVSQKX9Y9D",
        "outputId": "e8e221e5-2421-4c65-e646-22a93cd2da64"
      },
      "execution_count": 140,
      "outputs": [
        {
          "output_type": "stream",
          "name": "stdout",
          "text": [
            "[10, 11, 12, 13, 14]\n"
          ]
        }
      ]
    },
    {
      "cell_type": "code",
      "source": [
        "lista = [valor+10 for valor in range(5)]\n",
        "lista"
      ],
      "metadata": {
        "colab": {
          "base_uri": "https://localhost:8080/"
        },
        "id": "EwXsSc3e9_5K",
        "outputId": "f2e21d25-a60f-4c0b-8861-daacb3dc79dd"
      },
      "execution_count": 141,
      "outputs": [
        {
          "output_type": "execute_result",
          "data": {
            "text/plain": [
              "[10, 11, 12, 13, 14]"
            ]
          },
          "metadata": {},
          "execution_count": 141
        }
      ]
    },
    {
      "cell_type": "code",
      "source": [
        "lista = []\n",
        "for n in range(1,30):\n",
        "  if n % 4 == 0:\n",
        "    lista.append(n)\n",
        "print(lista)"
      ],
      "metadata": {
        "colab": {
          "base_uri": "https://localhost:8080/"
        },
        "id": "R6Ps2WtZ-fOC",
        "outputId": "0b8e15e4-2647-405b-f9e7-35dd5b316047"
      },
      "execution_count": 143,
      "outputs": [
        {
          "output_type": "stream",
          "name": "stdout",
          "text": [
            "[4, 8, 12, 16, 20, 24, 28]\n"
          ]
        }
      ]
    },
    {
      "cell_type": "code",
      "source": [
        "multiplico = [n for n in range(1,30) if n % 4 == 0]\n",
        "multiplico"
      ],
      "metadata": {
        "colab": {
          "base_uri": "https://localhost:8080/"
        },
        "id": "0JNb9bbF-yMj",
        "outputId": "20c1ecab-6710-40d8-cfa7-7f75a7d18f94"
      },
      "execution_count": 145,
      "outputs": [
        {
          "output_type": "execute_result",
          "data": {
            "text/plain": [
              "[4, 8, 12, 16, 20, 24, 28]"
            ]
          },
          "metadata": {},
          "execution_count": 145
        }
      ]
    },
    {
      "cell_type": "code",
      "source": [
        "conceito = ['azul' if nota >= 6 else 'vermelha' for nota in range(1,11)]\n",
        "conceito"
      ],
      "metadata": {
        "colab": {
          "base_uri": "https://localhost:8080/"
        },
        "id": "j4-Gpwuz_K5b",
        "outputId": "1adbdb26-5fe7-47dc-e7a9-ac6067d06c89"
      },
      "execution_count": 146,
      "outputs": [
        {
          "output_type": "execute_result",
          "data": {
            "text/plain": [
              "['vermelha',\n",
              " 'vermelha',\n",
              " 'vermelha',\n",
              " 'vermelha',\n",
              " 'vermelha',\n",
              " 'azul',\n",
              " 'azul',\n",
              " 'azul',\n",
              " 'azul',\n",
              " 'azul']"
            ]
          },
          "metadata": {},
          "execution_count": 146
        }
      ]
    },
    {
      "cell_type": "markdown",
      "source": [
        "# **Vetores (arrays) & Matrizes**"
      ],
      "metadata": {
        "id": "v2hMJl01ZS23"
      }
    },
    {
      "cell_type": "code",
      "source": [
        "vetor = [1,2,4,6]"
      ],
      "metadata": {
        "id": "86FCd5L1ZYtZ"
      },
      "execution_count": 147,
      "outputs": []
    },
    {
      "cell_type": "code",
      "source": [
        "type(vetor)"
      ],
      "metadata": {
        "colab": {
          "base_uri": "https://localhost:8080/"
        },
        "id": "qVfOdv2C_yWR",
        "outputId": "1141b624-8881-4983-c8f3-759fdb5b05bf"
      },
      "execution_count": 148,
      "outputs": [
        {
          "output_type": "execute_result",
          "data": {
            "text/plain": [
              "list"
            ]
          },
          "metadata": {},
          "execution_count": 148
        }
      ]
    },
    {
      "cell_type": "code",
      "source": [
        "matriz =[[1,2,3],\n",
        "         [4,5,6],\n",
        "         [7,8,9]]"
      ],
      "metadata": {
        "id": "NceLU1yj_099"
      },
      "execution_count": 149,
      "outputs": []
    },
    {
      "cell_type": "code",
      "source": [
        "type(matriz)"
      ],
      "metadata": {
        "colab": {
          "base_uri": "https://localhost:8080/"
        },
        "id": "1MsGa9SsAFTn",
        "outputId": "a82e8e9c-8235-4d0e-da3a-049618845f7e"
      },
      "execution_count": 150,
      "outputs": [
        {
          "output_type": "execute_result",
          "data": {
            "text/plain": [
              "list"
            ]
          },
          "metadata": {},
          "execution_count": 150
        }
      ]
    },
    {
      "cell_type": "code",
      "source": [
        "matriz"
      ],
      "metadata": {
        "colab": {
          "base_uri": "https://localhost:8080/"
        },
        "id": "SLyE5KpBAISg",
        "outputId": "b360542f-9ee4-4314-8dbb-cc2a535097dc"
      },
      "execution_count": 151,
      "outputs": [
        {
          "output_type": "execute_result",
          "data": {
            "text/plain": [
              "[[1, 2, 3], [4, 5, 6], [7, 8, 9]]"
            ]
          },
          "metadata": {},
          "execution_count": 151
        }
      ]
    },
    {
      "cell_type": "code",
      "source": [
        "vetor"
      ],
      "metadata": {
        "colab": {
          "base_uri": "https://localhost:8080/"
        },
        "id": "89qQmMPPAKR-",
        "outputId": "4a58548f-00db-4834-f113-5d72609c4c9a"
      },
      "execution_count": 152,
      "outputs": [
        {
          "output_type": "execute_result",
          "data": {
            "text/plain": [
              "[1, 2, 4, 6]"
            ]
          },
          "metadata": {},
          "execution_count": 152
        }
      ]
    },
    {
      "cell_type": "code",
      "source": [
        "import numpy as np"
      ],
      "metadata": {
        "id": "SvaU-bnBAMd5"
      },
      "execution_count": 153,
      "outputs": []
    },
    {
      "cell_type": "code",
      "source": [
        "vetor2 = np.array([1, -3, 5.2, 7])"
      ],
      "metadata": {
        "id": "QQYB4JlCAO0M"
      },
      "execution_count": 154,
      "outputs": []
    },
    {
      "cell_type": "code",
      "source": [
        "type(vetor2)"
      ],
      "metadata": {
        "colab": {
          "base_uri": "https://localhost:8080/"
        },
        "id": "Ou1CGhCiAVXk",
        "outputId": "d3de438d-9ab3-4ff7-e1f2-77d7de4f2b84"
      },
      "execution_count": 155,
      "outputs": [
        {
          "output_type": "execute_result",
          "data": {
            "text/plain": [
              "numpy.ndarray"
            ]
          },
          "metadata": {},
          "execution_count": 155
        }
      ]
    },
    {
      "cell_type": "code",
      "source": [
        "vetor2"
      ],
      "metadata": {
        "colab": {
          "base_uri": "https://localhost:8080/"
        },
        "id": "WUKfUKlXAX1v",
        "outputId": "ab6cab0d-87c8-4575-af83-12f22bdf6088"
      },
      "execution_count": 156,
      "outputs": [
        {
          "output_type": "execute_result",
          "data": {
            "text/plain": [
              "array([ 1. , -3. ,  5.2,  7. ])"
            ]
          },
          "metadata": {},
          "execution_count": 156
        }
      ]
    },
    {
      "cell_type": "code",
      "source": [
        "matriz2 = np.ones((2,3))\n",
        "matriz2"
      ],
      "metadata": {
        "colab": {
          "base_uri": "https://localhost:8080/"
        },
        "id": "DUapzkZSAZjA",
        "outputId": "9de20eeb-9e4b-4269-e646-b01aa876a022"
      },
      "execution_count": 157,
      "outputs": [
        {
          "output_type": "execute_result",
          "data": {
            "text/plain": [
              "array([[1., 1., 1.],\n",
              "       [1., 1., 1.]])"
            ]
          },
          "metadata": {},
          "execution_count": 157
        }
      ]
    },
    {
      "cell_type": "code",
      "source": [
        "type(matriz2)"
      ],
      "metadata": {
        "colab": {
          "base_uri": "https://localhost:8080/"
        },
        "id": "iF6cbXNGAhba",
        "outputId": "9d4b34bc-22ba-4723-e37e-869e3d009234"
      },
      "execution_count": 158,
      "outputs": [
        {
          "output_type": "execute_result",
          "data": {
            "text/plain": [
              "numpy.ndarray"
            ]
          },
          "metadata": {},
          "execution_count": 158
        }
      ]
    },
    {
      "cell_type": "code",
      "source": [
        "matriz3 = np.diag((2,4,6,8,10))\n",
        "matriz3"
      ],
      "metadata": {
        "colab": {
          "base_uri": "https://localhost:8080/"
        },
        "id": "8Zx0AY7AAkRa",
        "outputId": "b7c78714-2b2d-47c6-9523-ba9bb422a423"
      },
      "execution_count": 159,
      "outputs": [
        {
          "output_type": "execute_result",
          "data": {
            "text/plain": [
              "array([[ 2,  0,  0,  0,  0],\n",
              "       [ 0,  4,  0,  0,  0],\n",
              "       [ 0,  0,  6,  0,  0],\n",
              "       [ 0,  0,  0,  8,  0],\n",
              "       [ 0,  0,  0,  0, 10]])"
            ]
          },
          "metadata": {},
          "execution_count": 159
        }
      ]
    },
    {
      "cell_type": "code",
      "source": [
        "type(matriz3)"
      ],
      "metadata": {
        "colab": {
          "base_uri": "https://localhost:8080/"
        },
        "id": "kIIDwZNvAqg7",
        "outputId": "380f1382-19e2-4e5e-c04f-1e24861bce34"
      },
      "execution_count": 160,
      "outputs": [
        {
          "output_type": "execute_result",
          "data": {
            "text/plain": [
              "numpy.ndarray"
            ]
          },
          "metadata": {},
          "execution_count": 160
        }
      ]
    }
  ]
}